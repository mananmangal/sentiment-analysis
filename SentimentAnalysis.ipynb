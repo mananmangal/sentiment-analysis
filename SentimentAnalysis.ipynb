{
 "cells": [
  {
   "cell_type": "code",
   "execution_count": 1,
   "metadata": {},
   "outputs": [],
   "source": [
    "import numpy as np\n",
    "from sklearn.feature_extraction.text import TfidfVectorizer"
   ]
  },
  {
   "cell_type": "code",
   "execution_count": 2,
   "metadata": {},
   "outputs": [],
   "source": [
    "with open(\"train.dat\",'r') as f1:\n",
    "    text_train = f1.readlines()\n",
    "y = np.loadtxt('train.labels')\n",
    "#y[y==-1] = 0"
   ]
  },
  {
   "cell_type": "code",
   "execution_count": 3,
   "metadata": {},
   "outputs": [],
   "source": [
    "with open(\"test.dat\",'r') as f2:\n",
    "    text_test = f2.readlines()"
   ]
  },
  {
   "cell_type": "code",
   "execution_count": 4,
   "metadata": {},
   "outputs": [],
   "source": [
    "# Create feature vectors\n",
    "vectorizer = TfidfVectorizer(min_df = 5,\n",
    "                             max_df = 0.8,\n",
    "                             sublinear_tf = True,\n",
    "                             use_idf = True)\n",
    "X = vectorizer.fit_transform(text_train)\n",
    "test = vectorizer.transform(text_test)"
   ]
  },
  {
   "cell_type": "code",
   "execution_count": 5,
   "metadata": {},
   "outputs": [],
   "source": [
    "def sigmoid(z):\n",
    "    return 1 / (1 + np.exp(-z))\n",
    "def logistic_regression(X, y, num_steps, alpha):\n",
    "    intercept = np.ones((X.shape[0], 1))\n",
    "    X = np.hstack((intercept, X))\n",
    "    theta = np.zeros(X.shape[1])\n",
    "    for i in range(num_steps):\n",
    "        z = np.dot(X, theta)\n",
    "        hyp = sigmoid(z)\n",
    "        y[y==-1] = 0\n",
    "        gradient = np.dot(X.T, (hyp - y)) / y.size\n",
    "        if (i%5000 ==0) and alpha > 0.00001:\n",
    "            alpha = alpha/10\n",
    "        theta = theta - (alpha * gradient)\n",
    "    return theta\n",
    "#X = np.load('train.mat')\n",
    "#test = np.load('test.mat')\n",
    "y = np.loadtxt('train.labels')\n",
    "theta = logistic_regression(X.toarray(), y, num_steps = 50000, alpha = 10)\n",
    "finalTheta = np.dot(np.hstack((np.ones((test.shape[0], 1)), test.toarray())), theta)\n",
    "preds = np.round(sigmoid(finalTheta))\n",
    "preds[preds==0] = -1\n",
    "preds[preds==1] = 1\n",
    "np.savetxt('test.dat',preds)"
   ]
  }
 ],
 "metadata": {
  "kernelspec": {
   "display_name": "Python 3",
   "language": "python",
   "name": "python3"
  },
  "language_info": {
   "codemirror_mode": {
    "name": "ipython",
    "version": 3
   },
   "file_extension": ".py",
   "mimetype": "text/x-python",
   "name": "python",
   "nbconvert_exporter": "python",
   "pygments_lexer": "ipython3",
   "version": "3.7.6"
  }
 },
 "nbformat": 4,
 "nbformat_minor": 4
}
